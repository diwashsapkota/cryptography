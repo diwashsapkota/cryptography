{
  "nbformat": 4,
  "nbformat_minor": 0,
  "metadata": {
    "colab": {
      "name": "cryptographylab.ipynb",
      "provenance": [],
      "collapsed_sections": [],
      "authorship_tag": "ABX9TyPs2Tda3f2hq/+rz1VRfNQU",
      "include_colab_link": true
    },
    "kernelspec": {
      "name": "python3",
      "display_name": "Python 3"
    }
  },
  "cells": [
    {
      "cell_type": "markdown",
      "metadata": {
        "id": "view-in-github",
        "colab_type": "text"
      },
      "source": [
        "<a href=\"https://colab.research.google.com/github/diwashsapkota/cryptography/blob/main/cryptographylab.ipynb\" target=\"_parent\"><img src=\"https://colab.research.google.com/assets/colab-badge.svg\" alt=\"Open In Colab\"/></a>"
      ]
    },
    {
      "cell_type": "code",
      "metadata": {
        "colab": {
          "base_uri": "https://localhost:8080/"
        },
        "id": "cQktvzaDlS6X",
        "outputId": "dfab36af-6b54-4b98-cdb0-34ba4498da0c"
      },
      "source": [
        "#A program to implement Caesar Cipher\r\n",
        "#for encryption\r\n",
        "def encrypt(string, key):\r\n",
        "  cipher = ''\r\n",
        "  for char in string: \r\n",
        "    #if character is empty, add it to the cipher_text\r\n",
        "    if(char == ' '):\r\n",
        "      cipher = cipher + char\r\n",
        "    #if character is UPPERCASE, convert into unicode\r\n",
        "    #ord() --> gets ASCII value of the character\r\n",
        "    elif(char.isupper()):\r\n",
        "      cipher = cipher + chr((ord(char) + key - 65) % 26 + 65)\r\n",
        "    #if character is LOWERCASE, convert into unicode\r\n",
        "    else:\r\n",
        "      cipher = cipher + chr((ord(char) + key - 97) % 26 + 97)\r\n",
        "    return cipher\r\n",
        "text = input(\"Enter the message: \")\r\n",
        "key = int(input(\"Enter key(Shift Number): \"))\r\n",
        "print(\"Original String: \", text)\r\n",
        "#passing arguments to the ecnrypt() function\r\n",
        "print(\"Cipher Text: \", encrypt(text, key))\r\n"
      ],
      "execution_count": 1,
      "outputs": [
        {
          "output_type": "stream",
          "text": [
            "Enter the message: I pray that GOD may grant you the Spirit of Wisdom and of Revelation in the Knowledge of Him.\n",
            "Enter key(Shift Number): 7\n",
            "Original String:  I pray that GOD may grant you the Spirit of Wisdom and of Revelation in the Knowledge of Him.\n",
            "Cipher Text:  P\n"
          ],
          "name": "stdout"
        }
      ]
    },
    {
      "cell_type": "code",
      "metadata": {
        "colab": {
          "base_uri": "https://localhost:8080/"
        },
        "id": "z9pw_bv5ljM9",
        "outputId": "49cb9db7-14e2-42b3-a8bb-622cac0c6691"
      },
      "source": [
        "#MONO-ALPHABET CIPHER\r\n",
        "import random\r\n",
        "alphabets = [chr(a) for a in range(97,123)]\r\n",
        "mappinglist= list()\r\n",
        "for i in range(26):\r\n",
        "  def random_assign():\r\n",
        "    choice = random.choice(alphabets)\r\n",
        "    if choice not in mappinglist:\r\n",
        "      mappinglist.append(choice)\r\n",
        "    else:\r\n",
        "      random_assign()\r\n",
        "  random_assign()\r\n",
        "plain_text = input(\"Enter the message: \").lower()\r\n",
        "plain_text = plain_text.split()\r\n",
        "# print(plain_text)\r\n",
        "cipher_text = list()\r\n",
        "def ciphering(plain_text):\r\n",
        "  for i in range(len(plain_text)):\r\n",
        "    word = list()\r\n",
        "    for j in range(len(plain_text[i])):\r\n",
        "      index = alphabets.index(plain_text[i][j])\r\n",
        "      word.append(mappinglist[index])\r\n",
        "      temp = \"\". join(word)\r\n",
        "    cipher_text.append(temp)\r\n",
        "    encrypted_text = \" \".join(cipher_text)\r\n",
        "  return encrypted_text\r\n",
        "ciphered_text = ciphering(plain_text)\r\n",
        "def deciphering(ciphered_text):\r\n",
        "  ciphered_text = ciphered_text.split()\r\n",
        "  decipher_text = list()\r\n",
        "  for i in range(len(ciphered_text)):\r\n",
        "    word = list()\r\n",
        "    for j in range(len(ciphered_text[i])):\r\n",
        "      indexx = mappinglist.index(ciphered_text[i][j])\r\n",
        "      word.append(alphabets[indexx])\r\n",
        "    temp = \"\".join(word)\r\n",
        "    decipher_text.append(temp)  \r\n",
        "  return \" \".join(decipher_text)\r\n",
        "deciphered_text = deciphering(ciphered_text)\r\n",
        "print(\"Encryption : \",ciphered_text)\r\n",
        "print(\"Decryption : \",deciphered_text)\r\n"
      ],
      "execution_count": 4,
      "outputs": [
        {
          "output_type": "stream",
          "text": [
            "Enter the message: Diwash Sapktota\n",
            "Encryption :  cngrxh xrvdywyr\n",
            "Decryption :  diwash sapktota\n"
          ],
          "name": "stdout"
        }
      ]
    },
    {
      "cell_type": "code",
      "metadata": {
        "colab": {
          "base_uri": "https://localhost:8080/"
        },
        "id": "AZGlX_fAmQ4e",
        "outputId": "a47c060e-4e68-4947-b0e1-3d35df43cc88"
      },
      "source": [
        "#Playfair Cipher\r\n",
        "Alpha = [  \r\n",
        "            ['m', 'o', 'n', 'a','r'],\r\n",
        "            ['c', 'h', 'y', 'b','d'],\r\n",
        "            ['e', 'f', 'g', 'i','k'],\r\n",
        "            ['l', 'p', 'q', 's','t'],\r\n",
        "            ['u', 'v', 'w', 'x','z']\r\n",
        "        ]\r\n",
        "#for displaying above matrix\r\n",
        "print(\"Play fair Cipher key in Matrix Form: \\n \")\r\n",
        "for k in range(5):\r\n",
        "    for j in range(5):\r\n",
        "        print(Alpha[k][j] + \" \", end =\" \") \r\n",
        "    print('\\n')\r\n",
        "#for encryption\r\n",
        "def encrypt_func(out):\r\n",
        "    c = ''\r\n",
        "    for i in range(len(out)):\r\n",
        "        for k in range(5):\r\n",
        "            for j in range(5): \r\n",
        "                #d & e are row and column of 1st char\r\n",
        "                if(out[i][0]==Alpha[k][j]):\r\n",
        "                    d=k\r\n",
        "                    e=j\r\n",
        "                #f & g are row and column of 2nd char\r\n",
        "                elif(out[i][1]==Alpha[k][j]):\r\n",
        "                    f=k\r\n",
        "                    g=j     \r\n",
        "        #Row-wise Comparison\r\n",
        "        if(d==f):\r\n",
        "            c += Alpha[d][(e+1)%5]\r\n",
        "            c += Alpha[d][(g+1)%5]        \r\n",
        "        #Column-wise Comparison\r\n",
        "        elif(e==g):\r\n",
        "            c += Alpha[(d+1)%5][e]\r\n",
        "            c += Alpha[(f+1)%5][e]         \r\n",
        "        #Rectangle Rule (here row becomes same but column interchanges between characters)   \r\n",
        "        else:\r\n",
        "            c += Alpha[d][g]\r\n",
        "            c += Alpha[f][e]                    \r\n",
        "    return c\r\n",
        "#for decryption \r\n",
        "def decrypt_func(out):\r\n",
        "    c = ''\r\n",
        "    for i in range(len(out)):\r\n",
        "        for k in range(5):\r\n",
        "            for j in range(5): \r\n",
        "                #d & e are row and column of 1st char\r\n",
        "                if(out[i][0]==Alpha[k][j]):\r\n",
        "                    d=k\r\n",
        "                    e=j\r\n",
        "                #f & g are row and column of 2nd char\r\n",
        "                elif(out[i][1]==Alpha[k][j]):\r\n",
        "                    f=k\r\n",
        "                    g=j        \r\n",
        "        #Row-wise Comparison\r\n",
        "        if(d==f):\r\n",
        "            c += Alpha[d][(e-1)%5]\r\n",
        "            c += Alpha[d][(g-1)%5]               \r\n",
        "        #Column-wise Comparison\r\n",
        "        elif(e==g):\r\n",
        "            c += Alpha[(d-1)%5][e]\r\n",
        "            c += Alpha[(f-1)%5][e]           \r\n",
        "        #Rectangle Rule (here row becomes same but column interchanges between characters)   \r\n",
        "        else:\r\n",
        "            c += Alpha[d][g]\r\n",
        "            c += Alpha[f][e]             \r\n",
        "    return c\r\n",
        "a = input('Input the string: ')\r\n",
        "if(len(a)%2!=0):\r\n",
        "        a += 'z'\r\n",
        "n=2        \r\n",
        "b = [(a[i:i+n]) for i in range(0, len(a), n)] \r\n",
        "encrypt = encrypt_func(b)\r\n",
        "en_pair = [(encrypt[i:i+n]) for i in  range(0, len(a), n)]\r\n",
        "decrypt = decrypt_func(en_pair)\r\n",
        "de_pair = [(decrypt[i:i+n]) for i in  range(0, len(a), n)]\r\n",
        "print(\"Plaintext in pairs:\",b)  \r\n",
        "print(\"Encrypted text in pairs:\",en_pair)  \r\n",
        "print(\"Encrypted text:\",encrypt)\r\n",
        "print(\"Decrypted text in pairs:\",de_pair)  \r\n",
        "print(\"Decrypted text:\",decrypt)\r\n"
      ],
      "execution_count": 5,
      "outputs": [
        {
          "output_type": "stream",
          "text": [
            "Play fair Cipher key in Matrix Form: \n",
            " \n",
            "m  o  n  a  r  \n",
            "\n",
            "c  h  y  b  d  \n",
            "\n",
            "e  f  g  i  k  \n",
            "\n",
            "l  p  q  s  t  \n",
            "\n",
            "u  v  w  x  z  \n",
            "\n",
            "Input the string: fight back\n",
            "Plaintext in pairs: ['fi', 'gh', 't ', 'ba', 'ck']\n",
            "Encrypted text in pairs: ['gk', 'fy', 'pd', 'ib', 'de']\n",
            "Encrypted text: gkfypdibde\n",
            "Decrypted text in pairs: ['fi', 'gh', 'th', 'ba', 'ck']\n",
            "Decrypted text: fighthback\n"
          ],
          "name": "stdout"
        }
      ]
    },
    {
      "cell_type": "code",
      "metadata": {
        "colab": {
          "base_uri": "https://localhost:8080/"
        },
        "id": "PeFpdrGVnW-e",
        "outputId": "83d641dd-7b91-470a-92f7-4e36d387afdf"
      },
      "source": [
        "#HILL CIPHER\r\n",
        "keyMatrix = [[0] * 3 for i in range(3)]  \r\n",
        "#Generate vector for the message \r\n",
        "messageVector = [[0] for i in range(3)] \r\n",
        "#Generate vector for the cipher \r\n",
        "cipherMatrix = [[0] for i in range(3)] \r\n",
        "# Following function generates the \r\n",
        "# key matrix for the key string \r\n",
        "def getKeyMatrix(key): \r\n",
        "    k = 0\r\n",
        "    for i in range(3): \r\n",
        "        for j in range(3): \r\n",
        "            keyMatrix[i][j] = ord(key[k]) % 65\r\n",
        "            k += 1\r\n",
        "# Following function encrypts the message \r\n",
        "def encrypt(messageVector): \r\n",
        "    for i in range(3): \r\n",
        "        for j in range(1): \r\n",
        "            cipherMatrix[i][j] = 0\r\n",
        "            for x in range(3): \r\n",
        "                cipherMatrix[i][j] += (keyMatrix[i][x] * \r\n",
        "                                       messageVector[x][j]) \r\n",
        "            cipherMatrix[i][j] = cipherMatrix[i][j] % 26\r\n",
        "def HillCipher(message, key): \r\n",
        "    # Get key matrix from the key string \r\n",
        "    getKeyMatrix(key) \r\n",
        "    # Generate vector for the message \r\n",
        "    for i in range(3): \r\n",
        "        messageVector[i][0] = ord(message[i]) % 65\r\n",
        "    # Following function generates \r\n",
        "    # the encrypted vector \r\n",
        "    encrypt(messageVector) \r\n",
        "    # Generate the encrypted text  \r\n",
        "    # from the encrypted vector \r\n",
        "    CipherText = [] \r\n",
        "    for i in range(3): \r\n",
        "        CipherText.append(chr(cipherMatrix[i][0] + 65)) \r\n",
        "    # Finally print the ciphertext \r\n",
        "    print(\"Ciphertext: \", \"\".join(CipherText)) \r\n",
        "# Driver Code \r\n",
        "def main(): \r\n",
        "    # Get the message to be encrypted \r\n",
        "    message = input('Input the string: ')\r\n",
        "    # Get the key \r\n",
        "    key = \"GYBNQKURP\"\r\n",
        "    HillCipher(message, key) \r\n",
        "if __name__ == \"__main__\": \r\n",
        "    main()\r\n"
      ],
      "execution_count": 8,
      "outputs": [
        {
          "output_type": "stream",
          "text": [
            "Input the string: HEY\n",
            "Ciphertext:  GFW\n"
          ],
          "name": "stdout"
        }
      ]
    },
    {
      "cell_type": "code",
      "metadata": {
        "colab": {
          "base_uri": "https://localhost:8080/"
        },
        "id": "3BtMr3gTpMxm",
        "outputId": "2a111d6a-58cc-43f4-f0ca-a677feb82c52"
      },
      "source": [
        "#VIGENERE CIPHER\r\n",
        "# This function generates the key in a cyclic manner until  \r\n",
        "# it's length isn't equal to  the length of original text\r\n",
        "def generateKey(string, key): \r\n",
        "    key = list(key) \r\n",
        "    if len(string) == len(key): \r\n",
        "        return(key) \r\n",
        "    else: \r\n",
        "        for i in range(len(string) - \r\n",
        "                       len(key)): \r\n",
        "            key.append(key[i % len(key)]) \r\n",
        "    return(\"\" . join(key)) \r\n",
        "# This function returns the encrypted text generated with the help of the key \r\n",
        "def cipherText(string, key): \r\n",
        "    cipher_text = [] \r\n",
        "    for i in range(len(string)): \r\n",
        "        x = (ord(string[i]) + \r\n",
        "             ord(key[i])) % 26\r\n",
        "        x += ord('A') \r\n",
        "        cipher_text.append(chr(x)) \r\n",
        "    return(\"\" . join(cipher_text)) \r\n",
        "# This function decrypts the encrypted text and returns the original text \r\n",
        "def originalText(cipher_text, key): \r\n",
        "    orig_text = [] \r\n",
        "    for i in range(len(cipher_text)): \r\n",
        "        x = (ord(cipher_text[i]) - \r\n",
        "             ord(key[i]) + 26) % 26\r\n",
        "        x += ord('A') \r\n",
        "        orig_text.append(chr(x)) \r\n",
        "    return(\"\" . join(orig_text)) \r\n",
        "      \r\n",
        "# Driver code \r\n",
        "if __name__ == \"__main__\": \r\n",
        "    string = input(\"Enter a text: \")\r\n",
        "    keyword = \"DIWASH\"\r\n",
        "    key = generateKey(string, keyword) \r\n",
        "    cipher_text = cipherText(string,key) \r\n",
        "    print(\"Ciphertext :\", cipher_text) \r\n",
        "    print(\"Original/Decrypted Text :\",  \r\n",
        "           originalText(cipher_text, key))\r\n"
      ],
      "execution_count": 11,
      "outputs": [
        {
          "output_type": "stream",
          "text": [
            "Enter a text: MILLENNIALGENERATION\n",
            "Ciphertext : PQHLWUQQWLYLQMNALPRV\n",
            "Original/Decrypted Text : MILLENNIALGENERATION\n"
          ],
          "name": "stdout"
        }
      ]
    },
    {
      "cell_type": "code",
      "metadata": {
        "colab": {
          "base_uri": "https://localhost:8080/"
        },
        "id": "-b6y50QQprvr",
        "outputId": "76760482-920b-4570-9e49-108bee44a1d8"
      },
      "source": [
        "#RAIL FENCE CIPHER\r\n",
        "from itertools import cycle\r\n",
        "def rail_pattern(n):\r\n",
        "    r = list(range(n))\r\n",
        "    return cycle(r + r[-2:0:-1])\r\n",
        "def encode(plaintext, rails):\r\n",
        "    p = rail_pattern(rails)\r\n",
        "    # this relies on key being called in order, guaranteed?\r\n",
        "    return ''.join(sorted(plaintext, key=lambda i: next(p)))\r\n",
        "def decode(ciphertext, rails):\r\n",
        "    p = rail_pattern(rails)\r\n",
        "    indexes = sorted(range(len(ciphertext)), key=lambda i: next(p))\r\n",
        "    result = [''] * len(ciphertext)\r\n",
        "    for i, c in zip(indexes, ciphertext):\r\n",
        "        result[i] = c\r\n",
        "    return ''.join(result)\r\n",
        "c = encode(\"diwashsapkota\",3)\r\n",
        "print(c)\r\n",
        "print(decode(c,3))\r\n"
      ],
      "execution_count": 12,
      "outputs": [
        {
          "output_type": "stream",
          "text": [
            "dspaiahaktwso\n",
            "diwashsapkota\n"
          ],
          "name": "stdout"
        }
      ]
    },
    {
      "cell_type": "code",
      "metadata": {
        "colab": {
          "base_uri": "https://localhost:8080/"
        },
        "id": "61KvQJyFp7Ys",
        "outputId": "5806959b-f3f1-4e10-99ee-2e435c51e47c"
      },
      "source": [
        "#RSA ALGORITHM\r\n",
        "import math\r\n",
        "print(\"RSA ENCRYPTOR/DECRYPTOR\")\r\n",
        "#Input Prime Numbers\r\n",
        "print(\"PLEASE ENTER THE 'p' AND 'q' VALUES BELOW:\")\r\n",
        "p = int(input(\"Enter a prime number for p: \"))\r\n",
        "q = int(input(\"Enter a prime number for q: \"))\r\n",
        "#Check if Input's are Prime\r\n",
        "def prime_check(a):\r\n",
        "    if(a==2):\r\n",
        "        return True\r\n",
        "    elif((a<2) or ((a%2)==0)):\r\n",
        "        return False\r\n",
        "    elif(a>2):\r\n",
        "        for i in range(2,a):\r\n",
        "            if not(a%i):\r\n",
        "                return false\r\n",
        "    return True\r\n",
        "check_p = prime_check(p)\r\n",
        "check_q = prime_check(q)\r\n",
        "while(((check_p==False)or(check_q==False))):\r\n",
        "    p = int(input(\"Enter a prime number for p: \"))\r\n",
        "    q = int(input(\"Enter a prime number for q: \"))\r\n",
        "    check_p = prime_check(p)\r\n",
        "    check_q = prime_check(q)\r\n",
        "#RSA Modulus\r\n",
        "'''CALCULATION OF RSA MODULUS 'n'.'''\r\n",
        "n = p * q\r\n",
        "print(\"RSA Modulus(n) is:\",n)\r\n",
        "#Eulers Toitent\r\n",
        "'''CALCULATION OF EULERS TOITENT 'r'.'''\r\n",
        "r= (p-1)*(q-1)\r\n",
        "print(\"Eulers Toitent(r) is:\",r)\r\n",
        "#GCD\r\n",
        "'''CALCULATION OF GCD FOR 'e' CALCULATION.'''\r\n",
        "def egcd(e,r):\r\n",
        "    while(r!=0):\r\n",
        "        e,r=r,e%r\r\n",
        "    return e\r\n",
        "#Euclid's Algorithm\r\n",
        "def eugcd(e,r):\r\n",
        "    for i in range(1,r):\r\n",
        "        while(e!=0):\r\n",
        "            a,b=r//e,r%e\r\n",
        "            if(b!=0):\r\n",
        "                print(\"%d = %d*(%d) + %d\"%(r,a,e,b))\r\n",
        "            r=e\r\n",
        "            e=b\r\n",
        " \r\n",
        "#Extended Euclidean Algorithm\r\n",
        "def eea(a,b):\r\n",
        "    if(a%b==0):\r\n",
        "        return(b,0,1)\r\n",
        "    else:\r\n",
        "        gcd,s,t = eea(b,a%b)\r\n",
        "        s = s-((a//b) * t)\r\n",
        "        print(\"%d = %d*(%d) + (%d)*(%d)\"%(gcd,a,t,s,b))\r\n",
        "        return(gcd,t,s)\r\n",
        "#Multiplicative Inverse\r\n",
        "def mult_inv(e,r):\r\n",
        "    gcd,s,_=eea(e,r)\r\n",
        "    if(gcd!=1):\r\n",
        "        return None\r\n",
        "    else:\r\n",
        "        if(s<0):\r\n",
        "            print(\"s=%d. Since %d is less than 0, s = s(modr), i.e., s=%d.\"%(s,s,s%r))\r\n",
        "        elif(s>0):\r\n",
        "            print(\"s=%d.\"%(s))\r\n",
        "        return s%r\r\n",
        "#e Value Calculation\r\n",
        "for i in range(1,1000):\r\n",
        "    if(egcd(i,r)==1):\r\n",
        "        e=i\r\n",
        "print(\"The value of e is:\",e)\r\n",
        "#d, Private and Public Keys\r\n",
        "print(\"EUCLID'S ALGORITHM:\")\r\n",
        "eugcd(e,r)\r\n",
        "print(\"END OF THE STEPS USED TO ACHIEVE EUCLID'S ALGORITHM.\")\r\n",
        "print(\"EUCLID'S EXTENDED ALGORITHM:\")\r\n",
        "d = mult_inv(e,r)\r\n",
        "print(\"END OF THE STEPS USED TO ACHIEVE THE VALUE OF 'd'.\")\r\n",
        "print(\"The value of d is:\",d)\r\n",
        "public = (e,n)\r\n",
        "private = (d,n)\r\n",
        "print(\"Private Key is:\",private)\r\n",
        "print(\"Public Key is:\",public)\r\n",
        "#Encryption\r\n",
        "def encrypt(pub_key,n_text):\r\n",
        "    e,n=pub_key\r\n",
        "    x=[]\r\n",
        "    m=0\r\n",
        "    for i in n_text:\r\n",
        "        if(i.isupper()):\r\n",
        "            m = ord(i)-65\r\n",
        "            c=(m**e)%n\r\n",
        "            x.append(c)\r\n",
        "        elif(i.islower()):               \r\n",
        "            m= ord(i)-97\r\n",
        "            c=(m**e)%n\r\n",
        "            x.append(c)\r\n",
        "        elif(i.isspace()):\r\n",
        "            spc=400\r\n",
        "            x.append(400)\r\n",
        "    return x\r\n",
        "#Decryption\r\n",
        "def decrypt(priv_key,c_text):\r\n",
        "    d,n=priv_key\r\n",
        "    txt=c_text.split(',')\r\n",
        "    x=''\r\n",
        "    m=0\r\n",
        "    for i in txt:\r\n",
        "        if(i=='400'):\r\n",
        "            x+=' '\r\n",
        "        else:\r\n",
        "            m=(int(i)**d)%n\r\n",
        "            m+=65\r\n",
        "            c=chr(m)\r\n",
        "            x+=c\r\n",
        "    return x\r\n",
        "#Message\r\n",
        "message = input(\"What would you like encrypted or decrypted?(Separate numbers with ',' for decryption):\")\r\n",
        "print(\"Your message is:\",message)\r\n",
        "#Choose Encrypt or Decrypt and Print\r\n",
        "choose = input(\"Type '1' for encryption and '2' for decrytion.\")\r\n",
        "if(choose=='1'):\r\n",
        "    enc_msg=encrypt(public,message)\r\n",
        "    print(\"Your encrypted message is:\",enc_msg)\r\n",
        "    print(\"Thank you for using the RSA Encryptor. Goodbye!\")\r\n",
        "elif(choose=='2'):\r\n",
        "    print(\"Your decrypted message is:\",decrypt(private,message))\r\n",
        "    print(\"Thank you for using the RSA Encryptor. Goodbye!\")\r\n",
        "else:\r\n",
        "    print(\"You entered the wrong option.\")\r\n",
        "    print(\"Thank you for using the RSA Encryptor. Goodbye!\")\r\n"
      ],
      "execution_count": 13,
      "outputs": [
        {
          "output_type": "stream",
          "text": [
            "RSA ENCRYPTOR/DECRYPTOR\n",
            "PLEASE ENTER THE 'p' AND 'q' VALUES BELOW:\n",
            "Enter a prime number for p: 7\n",
            "Enter a prime number for q: 13\n",
            "RSA Modulus(n) is: 91\n",
            "Eulers Toitent(r) is: 72\n",
            "The value of e is: 997\n",
            "EUCLID'S ALGORITHM:\n",
            "72 = 0*(997) + 72\n",
            "997 = 13*(72) + 61\n",
            "72 = 1*(61) + 11\n",
            "61 = 5*(11) + 6\n",
            "11 = 1*(6) + 5\n",
            "6 = 1*(5) + 1\n",
            "END OF THE STEPS USED TO ACHIEVE EUCLID'S ALGORITHM.\n",
            "EUCLID'S EXTENDED ALGORITHM:\n",
            "1 = 6*(1) + (-1)*(5)\n",
            "1 = 11*(-1) + (2)*(6)\n",
            "1 = 61*(2) + (-11)*(11)\n",
            "1 = 72*(-11) + (13)*(61)\n",
            "1 = 997*(13) + (-180)*(72)\n",
            "s=13.\n",
            "END OF THE STEPS USED TO ACHIEVE THE VALUE OF 'd'.\n",
            "The value of d is: 13\n",
            "Private Key is: (13, 91)\n",
            "Public Key is: (997, 91)\n",
            "What would you like encrypted or decrypted?(Separate numbers with ',' for decryption):24\n",
            "Your message is: 24\n",
            "Type '1' for encryption and '2' for decrytion.1\n",
            "Your encrypted message is: []\n",
            "Thank you for using the RSA Encryptor. Goodbye!\n"
          ],
          "name": "stdout"
        }
      ]
    },
    {
      "cell_type": "code",
      "metadata": {
        "colab": {
          "base_uri": "https://localhost:8080/"
        },
        "id": "yTUqP0NNqzUB",
        "outputId": "caeafa91-f0d6-4171-f30b-49179c812a3c"
      },
      "source": [
        "#DIFFIE-HELLMAN ALGORITHM\r\n",
        "from random import randint\r\n",
        "if __name__ == '__main__':\r\n",
        "\tP = 23\r\n",
        "\tG = 9\r\n",
        "\tprint('The Value of P is :%d'%(P))\r\n",
        "\tprint('The Value of G is :%d'%(G))\r\n",
        "\ta = 4\r\n",
        "\tprint('The Private Key a for Alice is :%d'%(a))\r\n",
        "\tx = int(pow(G,a,P)) \r\n",
        "\tb = 3\r\n",
        "\tprint('The Private Key b for Bob is :%d'%(b))\r\n",
        "\ty = int(pow(G,b,P))  \r\n",
        "\tka = int(pow(y,a,P)) \r\n",
        "\tkb = int(pow(x,b,P))\r\n",
        "\tprint('Secret key for the Alice is : %d'%(ka))\r\n",
        "\tprint('Secret Key for the Bob is : %d'%(kb))\r\n"
      ],
      "execution_count": 14,
      "outputs": [
        {
          "output_type": "stream",
          "text": [
            "The Value of P is :23\n",
            "The Value of G is :9\n",
            "The Private Key a for Alice is :4\n",
            "The Private Key b for Bob is :3\n",
            "Secret key for the Alice is : 9\n",
            "Secret Key for the Bob is : 9\n"
          ],
          "name": "stdout"
        }
      ]
    },
    {
      "cell_type": "code",
      "metadata": {
        "colab": {
          "base_uri": "https://localhost:8080/"
        },
        "id": "756wgtI2q_V0",
        "outputId": "3be302a1-3154-4127-993a-7e7bd99e9dd7"
      },
      "source": [
        "#ELGAMAL CRYPTOGRAPHY\r\n",
        "import random \r\n",
        "from math import pow\r\n",
        "a = random.randint(2, 10) \r\n",
        "def gcd(a, b): \r\n",
        "\tif a < b: \r\n",
        "\t\treturn gcd(b, a) \r\n",
        "\telif a % b == 0: \r\n",
        "\t\treturn b; \r\n",
        "\telse: \r\n",
        "\t\treturn gcd(b, a % b) \r\n",
        "# Generating large random numbers \r\n",
        "def gen_key(q): \r\n",
        "\tkey = random.randint(pow(10, 20), q) \r\n",
        "\twhile gcd(q, key) != 1: \r\n",
        "\t\tkey = random.randint(pow(10, 20), q) \r\n",
        "\treturn key \r\n",
        "# Modular exponentiation \r\n",
        "def power(a, b, c): \r\n",
        "\tx = 1\r\n",
        "\ty = a \r\n",
        "\twhile b > 0: \r\n",
        "\t\tif b % 2 == 0: \r\n",
        "\t\t\tx = (x * y) % c; \r\n",
        "\t\ty = (y * y) % c \r\n",
        "\t\tb = int(b / 2) \r\n",
        "\treturn x % c \r\n",
        "# Asymmetric encryption \r\n",
        "def encrypt(msg, q, h, g): \r\n",
        "\ten_msg = [] \r\n",
        "\tk = gen_key(q)# Private key for sender \r\n",
        "\ts = power(h, k, q) \r\n",
        "\tp = power(g, k, q) \r\n",
        "\tfor i in range(0, len(msg)): \r\n",
        "\t\ten_msg.append(msg[i]) \r\n",
        "\tprint(\"g^k used : \", p) \r\n",
        "\tprint(\"g^ak used : \", s) \r\n",
        "\tfor i in range(0, len(en_msg)): \r\n",
        "\t\ten_msg[i] = s * ord(en_msg[i]) \r\n",
        "\treturn en_msg, p \r\n",
        "def decrypt(en_msg, p, key, q): \r\n",
        "    dr_msg = [] \r\n",
        "    h = power(p, key, q) \r\n",
        "    for i in range(0, len(en_msg)): \r\n",
        "        dr_msg.append(chr(int(en_msg[i]/h))) \r\n",
        "    return dr_msg \r\n",
        "# Driver code \r\n",
        "def main(): \r\n",
        "    msg = 'encryption'\r\n",
        "    print(\"Original Message :\", msg) \r\n",
        "    q = random.randint(pow(10, 20), pow(10, 50)) \r\n",
        "    g = random.randint(2, q) \r\n",
        "    key = gen_key(q)# Private key for receiver \r\n",
        "    h = power(g, key, q) \r\n",
        "    print(\"g used : \", g) \r\n",
        "    print(\"g^a used : \", h) \r\n",
        "    en_msg, p = encrypt(msg, q, h, g) \r\n",
        "    dr_msg = decrypt(en_msg, p, key, q) \r\n",
        "    dmsg = ''.join(dr_msg) \r\n",
        "    print(\"Decrypted Message :\", dmsg); \r\n",
        "if __name__ == '__main__': \r\n",
        "    main()\r\n"
      ],
      "execution_count": 15,
      "outputs": [
        {
          "output_type": "stream",
          "text": [
            "Original Message : encryption\n",
            "g used :  68988243418147477422717587970978587987259892261519\n",
            "g^a used :  57785281749293371796360150027700406303601541949927\n",
            "g^k used :  69928713163514419744804066235077169951109963433735\n",
            "g^ak used :  3273844125903729602613749966539106042508799976335\n",
            "Decrypted Message : encryption\n"
          ],
          "name": "stdout"
        }
      ]
    },
    {
      "cell_type": "code",
      "metadata": {
        "colab": {
          "base_uri": "https://localhost:8080/"
        },
        "id": "aWzwghzUrdda",
        "outputId": "8a6f12d0-a1a0-418b-946c-0166408ff81c"
      },
      "source": [
        "#ADDITIVE INVERSE\r\n",
        "def modInverse(a, m): \r\n",
        "    a = a % m \r\n",
        "    for x in range(1, m): \r\n",
        "        if ((a + x) % m == 0): \r\n",
        "            return x \r\n",
        "    return 1\r\n",
        "a = 5\r\n",
        "m = 11\r\n",
        "print(modInverse(a, m))\r\n"
      ],
      "execution_count": 16,
      "outputs": [
        {
          "output_type": "stream",
          "text": [
            "6\n"
          ],
          "name": "stdout"
        }
      ]
    },
    {
      "cell_type": "code",
      "metadata": {
        "colab": {
          "base_uri": "https://localhost:8080/"
        },
        "id": "NXQ6tGuKrjB1",
        "outputId": "65c081b8-f09a-4cb6-e66a-bc454cda1a61"
      },
      "source": [
        "#MULTIPLICATIVE INVERSE\r\n",
        "def egcd(a, b):\r\n",
        "\tif a == 0:\r\n",
        "\t\treturn (b, 0, 1)\r\n",
        "\telse:\r\n",
        "\t\tgcd, x, y = egcd(b % a, a)\r\n",
        "\t\treturn (gcd, y - (b//a) * x, x)\r\n",
        "a=5\r\n",
        "b=9\r\n",
        "gcd, x, y = egcd(a, b)\r\n",
        "print(gcd, x, y)\r\n",
        "print(\"The multiplicative inverse by extended euclidean algorithm is\")\r\n",
        "if (x<0):\r\n",
        "        print(b+x)\r\n",
        "else:\r\n",
        "    print(x)\r\n"
      ],
      "execution_count": 18,
      "outputs": [
        {
          "output_type": "stream",
          "text": [
            "1 2 -1\n",
            "The multiplicative inverse by extended euclidean algorithm is\n",
            "2\n"
          ],
          "name": "stdout"
        }
      ]
    },
    {
      "cell_type": "code",
      "metadata": {
        "colab": {
          "base_uri": "https://localhost:8080/"
        },
        "id": "8U0Lx_1srvCr",
        "outputId": "e6faebc7-1c75-475c-bdc2-bddec1b60dd5"
      },
      "source": [
        "#MULTIPLICATIVE INVERSE BY EULER'S METHOD\r\n",
        "def modInverse(a, m):\r\n",
        "\tg = gcd(a, m)\r\n",
        "\tif (g != 1):\r\n",
        "\t\tprint(\"Inverse doesn't exist\")\r\n",
        "\telse:\r\n",
        "\t\tprint(\"Modular multiplicative inverse is \",\r\n",
        "\t\t\tpower(a, m - 2, m))\r\n",
        "def power(x, y, m):\r\n",
        "\tif (y == 0):\r\n",
        "\t\treturn 1\r\n",
        "\tp = power(x, y // 2, m) % m\r\n",
        "\tp = (p * p) % m\r\n",
        "\tif(y % 2 == 0):\r\n",
        "\t\treturn p\r\n",
        "\telse:\r\n",
        "\t\treturn ((x * p) % m)\r\n",
        "def gcd(a, b):\r\n",
        "\tif (a == 0):\r\n",
        "\t\treturn b\r\n",
        "\treturn gcd(b % a, a)\r\n",
        "a = 3\r\n",
        "m = 11\r\n",
        "modInverse(a, m)\r\n"
      ],
      "execution_count": 19,
      "outputs": [
        {
          "output_type": "stream",
          "text": [
            "Modular multiplicative inverse is  4\n"
          ],
          "name": "stdout"
        }
      ]
    },
    {
      "cell_type": "code",
      "metadata": {
        "colab": {
          "base_uri": "https://localhost:8080/"
        },
        "id": "hlMM3omMr6S_",
        "outputId": "93e8d6c2-e070-4c11-db6b-b5f93ad5bfe1"
      },
      "source": [
        "#MODULAR MULTIPLICATION\r\n",
        "def modInverse(a, m): \r\n",
        "\ta = a % m \r\n",
        "\tfor x in range(1, m): \r\n",
        "\t\tif ((a * x) % m == 1): \r\n",
        "\t\t\treturn x \r\n",
        "\treturn 1\r\n",
        "a = 5\r\n",
        "m = 11\r\n",
        "print(modInverse(a, m))\r\n"
      ],
      "execution_count": 20,
      "outputs": [
        {
          "output_type": "stream",
          "text": [
            "9\n"
          ],
          "name": "stdout"
        }
      ]
    },
    {
      "cell_type": "code",
      "metadata": {
        "colab": {
          "base_uri": "https://localhost:8080/"
        },
        "id": "B23oetezsAh1",
        "outputId": "3b6d3bc5-b2ed-40eb-ed71-fc6ffae23626"
      },
      "source": [
        "#EXTENDED EULCLIDEAN ALGORITHM\r\n",
        "def egcd(a, b):\r\n",
        "\tif a == 0:\r\n",
        "\t\treturn (b, 0, 1)\r\n",
        "\telse:\r\n",
        "\t\tgcd, x, y = egcd(b % a, a)\r\n",
        "\t\treturn (gcd, y - (b//a) * x, x)\r\n",
        "a=5\r\n",
        "b=9\r\n",
        "gcd, x, y = egcd(a, b)\r\n",
        "print(gcd, x, y)\r\n",
        "print(\"The multiplicative inverse by extended euclidean algorithm is\")\r\n",
        "if (x<0):\r\n",
        "        print(b+x)\r\n",
        "else:\r\n",
        "        print(x)\r\n"
      ],
      "execution_count": 22,
      "outputs": [
        {
          "output_type": "stream",
          "text": [
            "1 2 -1\n",
            "The multiplicative inverse by extended euclidean algorithm is\n",
            "2\n"
          ],
          "name": "stdout"
        }
      ]
    },
    {
      "cell_type": "code",
      "metadata": {
        "colab": {
          "base_uri": "https://localhost:8080/"
        },
        "id": "H1Rs9jF-sMbT",
        "outputId": "0a32daad-5fde-45de-c6cb-c696e14311d0"
      },
      "source": [
        "#PRIMALITY TESTING\r\n",
        "import random\r\n",
        "def power(a, n, p):\r\n",
        "\tres = 1\r\n",
        "\ta = a % p \r\n",
        "\twhile n > 0:\r\n",
        "\t\tif n % 2:\r\n",
        "\t\t\tres = (res * a) % p\r\n",
        "\t\t\tn = n - 1\r\n",
        "\t\telse:\r\n",
        "\t\t\ta = (a ** 2) % p\r\n",
        "\t\t\tn = n // 2\r\n",
        "\treturn res % p\r\n",
        "def isPrime(n, k):\r\n",
        "\tif n == 1 or n == 4:\r\n",
        "\t\treturn False\r\n",
        "\telif n == 2 or n == 3:\r\n",
        "\t\treturn True\r\n",
        "\telse:\r\n",
        "\t\tfor i in range(k):\r\n",
        "\t\t\ta = random.randint(2, n - 2)\r\n",
        "\t\t\tif power(a, n - 1, n) != 1:\r\n",
        "\t\t\t\treturn False\r\n",
        "\treturn True\r\n",
        "k = 1\r\n",
        "if isPrime(11, k):\r\n",
        "    print(\"true\")\r\n",
        "else:\r\n",
        "    print(\"false\")\r\n",
        "if isPrime(13, k):\r\n",
        "    print(\"true\")\r\n",
        "else:\r\n",
        "    print(\"false\")\r\n"
      ],
      "execution_count": 23,
      "outputs": [
        {
          "output_type": "stream",
          "text": [
            "true\n",
            "true\n"
          ],
          "name": "stdout"
        }
      ]
    },
    {
      "cell_type": "code",
      "metadata": {
        "colab": {
          "base_uri": "https://localhost:8080/"
        },
        "id": "boIAUHScsOtN",
        "outputId": "a45819a2-a45a-408c-d170-c621e285e597"
      },
      "source": [
        "#IMPLEMENT IMPOTENT FUNCTION\r\n",
        "def gcd(a, b): \r\n",
        "\tif (a == 0): \r\n",
        "\t\treturn b \r\n",
        "\treturn gcd(b % a, a) \r\n",
        "def phi(n): \r\n",
        "\tresult = 1\r\n",
        "\tfor i in range(2, n): \r\n",
        "\t\tif (gcd(i, n) == 1): \r\n",
        "\t\t\tresult+=1\r\n",
        "\treturn result \r\n",
        "for n in range(1, 11): \r\n",
        "\tprint(\"phi(\",n,\") = \", \r\n",
        "\t\tphi(n), sep = \"\")\r\n"
      ],
      "execution_count": 24,
      "outputs": [
        {
          "output_type": "stream",
          "text": [
            "phi(1) = 1\n",
            "phi(2) = 1\n",
            "phi(3) = 2\n",
            "phi(4) = 2\n",
            "phi(5) = 4\n",
            "phi(6) = 2\n",
            "phi(7) = 6\n",
            "phi(8) = 4\n",
            "phi(9) = 6\n",
            "phi(10) = 4\n"
          ],
          "name": "stdout"
        }
      ]
    },
    {
      "cell_type": "code",
      "metadata": {
        "colab": {
          "base_uri": "https://localhost:8080/"
        },
        "id": "xnLFZjxPsdw1",
        "outputId": "dd30bd61-f07a-4e2b-bb78-02dc559e701b"
      },
      "source": [
        "#PRIMITIVE ROOT CONCEPT\r\n",
        "from math import sqrt \r\n",
        "def isPrime( n): \r\n",
        "\tif (n <= 1): \r\n",
        "\t\treturn False\r\n",
        "\tif (n <= 3): \r\n",
        "\t\treturn True\r\n",
        "\tif (n % 2 == 0 or n % 3 == 0): \r\n",
        "\t\treturn False\r\n",
        "\ti = 5\r\n",
        "\twhile(i * i <= n): \r\n",
        "\t\tif (n % i == 0 or n % (i + 2) == 0) : \r\n",
        "\t\t\treturn False\r\n",
        "\t\ti = i + 6\r\n",
        "\treturn True\r\n",
        "def power( x, y, p): \r\n",
        "\tres = 1 # Initialize result \r\n",
        "\tx = x % p # Update x if it is more \r\n",
        "\t\t\t# than or equal to p \r\n",
        "\twhile (y > 0): \r\n",
        "\t\tif (y & 1): \r\n",
        "\t\t\tres = (res * x) % p \r\n",
        "\t\ty = y >> 1 # y = y/2 \r\n",
        "\t\tx = (x * x) % p \r\n",
        "\treturn res \r\n",
        "def findPrimefactors(s, n) : \r\n",
        "\twhile (n % 2 == 0) : \r\n",
        "\t\ts.add(2) \r\n",
        "\t\tn = n // 2\r\n",
        "\tfor i in range(3, int(sqrt(n)), 2): \r\n",
        "\t\twhile (n % i == 0) : \r\n",
        "\t\t\ts.add(i) \r\n",
        "\t\t\tn = n // i \r\n",
        "\tif (n > 2) : \r\n",
        "\t\ts.add(n) \r\n",
        "def findPrimitive( n) : \r\n",
        "\ts = set() \r\n",
        "\tif (isPrime(n) == False): \r\n",
        "\t\treturn -1\r\n",
        "\tphi = n - 1\r\n",
        "\tfindPrimefactors(s, phi) \r\n",
        "\tfor r in range(2, phi + 1): \r\n",
        "\t\tflag = False\r\n",
        "\t\tfor it in s: \r\n",
        "\t\t\tif (power(r, phi // it, n) == 1): \r\n",
        "\t\t\t\tflag = True\r\n",
        "\t\t\t\tbreak\r\n",
        "\t\tif (flag == False): \r\n",
        "\t\t\treturn r \r\n",
        "\treturn -1\r\n",
        "n = int(input(\"Enter a number: \"))\r\n",
        "print(\"Smallest primitive root of\", \r\n",
        "\t\tn, \"is\", findPrimitive(n))\r\n"
      ],
      "execution_count": 31,
      "outputs": [
        {
          "output_type": "stream",
          "text": [
            "Enter a number: 743\n",
            "Smallest primitive root of 743 is 5\n"
          ],
          "name": "stdout"
        }
      ]
    }
  ]
}